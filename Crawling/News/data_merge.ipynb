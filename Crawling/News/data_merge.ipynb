{
 "cells": [
  {
   "cell_type": "code",
   "execution_count": 28,
   "metadata": {},
   "outputs": [],
   "source": [
    "import pandas as pd\n",
    "import numpy as np"
   ]
  },
  {
   "cell_type": "code",
   "execution_count": 29,
   "metadata": {},
   "outputs": [],
   "source": [
    "path_out = 'C:/임시/RData/'\n",
    "path_home = 'D:/세미 1차 텍스트 마이닝/formats/'\n",
    "fox = pd.read_csv(path_home+'fox_news.csv')\n",
    "cbs = pd.read_csv(path_home+'CBS_crawling.csv')\n",
    "center = pd.read_csv(path_home+'center_201102.csv')"
   ]
  },
  {
   "cell_type": "code",
   "execution_count": 30,
   "metadata": {},
   "outputs": [],
   "source": [
    "center = center.drop(['Unnamed: 0','Time'],axis=1)\n",
    "center.Date = center.Date.astype('datetime64[ns]')"
   ]
  },
  {
   "cell_type": "code",
   "execution_count": 31,
   "metadata": {},
   "outputs": [],
   "source": [
    "cbs = cbs.drop(['Unnamed: 0'],axis=1)\n",
    "cbs.date = cbs.date.astype('datetime64[ns]')\n",
    "cbs.rename(columns={'date':'Date','title':'Title','content':'Text','press':'Press'},inplace=True)\n",
    "cbs['Topic'] = 'Election'"
   ]
  },
  {
   "cell_type": "code",
   "execution_count": 32,
   "metadata": {},
   "outputs": [],
   "source": [
    "fox = fox.drop(['Link'],axis=1)\n",
    "fox.date = fox.date.astype('datetime64[ns]')\n",
    "fox.rename(columns={'headlines':'Title','category':'Topic','text':'Text','date':'Date'},inplace=True)"
   ]
  },
  {
   "cell_type": "code",
   "execution_count": 33,
   "metadata": {},
   "outputs": [
    {
     "data": {
      "text/html": [
       "<div>\n",
       "<style scoped>\n",
       "    .dataframe tbody tr th:only-of-type {\n",
       "        vertical-align: middle;\n",
       "    }\n",
       "\n",
       "    .dataframe tbody tr th {\n",
       "        vertical-align: top;\n",
       "    }\n",
       "\n",
       "    .dataframe thead th {\n",
       "        text-align: right;\n",
       "    }\n",
       "</style>\n",
       "<table border=\"1\" class=\"dataframe\">\n",
       "  <thead>\n",
       "    <tr style=\"text-align: right;\">\n",
       "      <th></th>\n",
       "      <th>Title</th>\n",
       "      <th>Date</th>\n",
       "      <th>Press</th>\n",
       "      <th>Topic</th>\n",
       "      <th>Text</th>\n",
       "    </tr>\n",
       "  </thead>\n",
       "  <tbody>\n",
       "    <tr>\n",
       "      <th>0</th>\n",
       "      <td>CNN's Don Lemon praises Biden after urging him...</td>\n",
       "      <td>2020-09-01</td>\n",
       "      <td>Fox</td>\n",
       "      <td>Media</td>\n",
       "      <td>David Avella, Wendy Osefo condemn politically-...</td>\n",
       "    </tr>\n",
       "    <tr>\n",
       "      <th>1</th>\n",
       "      <td>Trump Jr. bashes Dems over claim riots are pre...</td>\n",
       "      <td>2020-09-01</td>\n",
       "      <td>Fox</td>\n",
       "      <td>Fox News Flash</td>\n",
       "      <td>Former Barack Obama personal aide weighs in on...</td>\n",
       "    </tr>\n",
       "    <tr>\n",
       "      <th>2</th>\n",
       "      <td>Eddy Grant brings copyright lawsuit against Tr...</td>\n",
       "      <td>2020-09-01</td>\n",
       "      <td>Fox</td>\n",
       "      <td>Donald Trump</td>\n",
       "      <td>Trump 2020 Communications Director Tim Murtaug...</td>\n",
       "    </tr>\n",
       "    <tr>\n",
       "      <th>3</th>\n",
       "      <td>Hannity condemns rumors about Trump's health, ...</td>\n",
       "      <td>2020-09-01</td>\n",
       "      <td>Fox</td>\n",
       "      <td>Fox News Flash</td>\n",
       "      <td>Will Biden's comments on the oil industry hurt...</td>\n",
       "    </tr>\n",
       "    <tr>\n",
       "      <th>4</th>\n",
       "      <td>Trump campaign calls on CNN to fire Joe Lockha...</td>\n",
       "      <td>2020-09-01</td>\n",
       "      <td>Fox</td>\n",
       "      <td>Media</td>\n",
       "      <td>Biden and Obama make their first joint campaig...</td>\n",
       "    </tr>\n",
       "    <tr>\n",
       "      <th>...</th>\n",
       "      <td>...</td>\n",
       "      <td>...</td>\n",
       "      <td>...</td>\n",
       "      <td>...</td>\n",
       "      <td>...</td>\n",
       "    </tr>\n",
       "    <tr>\n",
       "      <th>242</th>\n",
       "      <td>What is the \"Rising American Electorate\" and w...</td>\n",
       "      <td>2020-09-18</td>\n",
       "      <td>CBS</td>\n",
       "      <td>Election</td>\n",
       "      <td>This story is part of a new CBSN series focuse...</td>\n",
       "    </tr>\n",
       "    <tr>\n",
       "      <th>243</th>\n",
       "      <td>New Biden ads target Black men</td>\n",
       "      <td>2020-09-18</td>\n",
       "      <td>CBS</td>\n",
       "      <td>Election</td>\n",
       "      <td>Black women are often considered the \"backbone...</td>\n",
       "    </tr>\n",
       "    <tr>\n",
       "      <th>244</th>\n",
       "      <td>Michael Bloomberg pledges $100 million to help...</td>\n",
       "      <td>2020-09-13</td>\n",
       "      <td>CBS</td>\n",
       "      <td>Election</td>\n",
       "      <td>Washington — Former New York City Mayor Michae...</td>\n",
       "    </tr>\n",
       "    <tr>\n",
       "      <th>245</th>\n",
       "      <td>Joe Biden's security breached while boarding c...</td>\n",
       "      <td>2020-09-13</td>\n",
       "      <td>CBS</td>\n",
       "      <td>Election</td>\n",
       "      <td>Johnstown, Pa. — An unidentified photographer ...</td>\n",
       "    </tr>\n",
       "    <tr>\n",
       "      <th>246</th>\n",
       "      <td>Sen. Coons \"concerned\" with WH's lack of visib...</td>\n",
       "      <td>2020-09-13</td>\n",
       "      <td>CBS</td>\n",
       "      <td>Election</td>\n",
       "      <td>A senator from former Vice President Joe Biden...</td>\n",
       "    </tr>\n",
       "  </tbody>\n",
       "</table>\n",
       "<p>3448 rows × 5 columns</p>\n",
       "</div>"
      ],
      "text/plain": [
       "                                                 Title       Date Press  \\\n",
       "0    CNN's Don Lemon praises Biden after urging him... 2020-09-01   Fox   \n",
       "1    Trump Jr. bashes Dems over claim riots are pre... 2020-09-01   Fox   \n",
       "2    Eddy Grant brings copyright lawsuit against Tr... 2020-09-01   Fox   \n",
       "3    Hannity condemns rumors about Trump's health, ... 2020-09-01   Fox   \n",
       "4    Trump campaign calls on CNN to fire Joe Lockha... 2020-09-01   Fox   \n",
       "..                                                 ...        ...   ...   \n",
       "242  What is the \"Rising American Electorate\" and w... 2020-09-18   CBS   \n",
       "243                     New Biden ads target Black men 2020-09-18   CBS   \n",
       "244  Michael Bloomberg pledges $100 million to help... 2020-09-13   CBS   \n",
       "245  Joe Biden's security breached while boarding c... 2020-09-13   CBS   \n",
       "246  Sen. Coons \"concerned\" with WH's lack of visib... 2020-09-13   CBS   \n",
       "\n",
       "              Topic                                               Text  \n",
       "0             Media  David Avella, Wendy Osefo condemn politically-...  \n",
       "1    Fox News Flash  Former Barack Obama personal aide weighs in on...  \n",
       "2      Donald Trump  Trump 2020 Communications Director Tim Murtaug...  \n",
       "3    Fox News Flash  Will Biden's comments on the oil industry hurt...  \n",
       "4             Media  Biden and Obama make their first joint campaig...  \n",
       "..              ...                                                ...  \n",
       "242        Election  This story is part of a new CBSN series focuse...  \n",
       "243        Election  Black women are often considered the \"backbone...  \n",
       "244        Election  Washington — Former New York City Mayor Michae...  \n",
       "245        Election  Johnstown, Pa. — An unidentified photographer ...  \n",
       "246        Election  A senator from former Vice President Joe Biden...  \n",
       "\n",
       "[3448 rows x 5 columns]"
      ]
     },
     "execution_count": 33,
     "metadata": {},
     "output_type": "execute_result"
    }
   ],
   "source": [
    "news = pd.concat([fox,center,cbs])\n",
    "news"
   ]
  },
  {
   "cell_type": "code",
   "execution_count": 34,
   "metadata": {},
   "outputs": [],
   "source": [
    "news.to_csv(path_home+'news_raw.csv',index=False)"
   ]
  }
 ],
 "metadata": {
  "kernelspec": {
   "display_name": "Python 3",
   "language": "python",
   "name": "python3"
  },
  "language_info": {
   "codemirror_mode": {
    "name": "ipython",
    "version": 3
   },
   "file_extension": ".py",
   "mimetype": "text/x-python",
   "name": "python",
   "nbconvert_exporter": "python",
   "pygments_lexer": "ipython3",
   "version": "3.8.3"
  }
 },
 "nbformat": 4,
 "nbformat_minor": 4
}
