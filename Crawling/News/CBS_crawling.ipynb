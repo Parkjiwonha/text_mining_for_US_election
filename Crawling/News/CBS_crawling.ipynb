{
 "cells": [
  {
   "cell_type": "code",
   "execution_count": null,
   "metadata": {
    "id": "ArAOFaiOh51S"
   },
   "outputs": [],
   "source": [
    "from selenium import webdriver\n",
    "from bs4 import BeautifulSoup\n",
    "import time\n",
    "import re\n",
    "import pandas as pd"
   ]
  },
  {
   "cell_type": "code",
   "execution_count": null,
   "metadata": {
    "id": "z1J3fsxPh51a"
   },
   "outputs": [],
   "source": [
    "def cbs_news(page_num):\n",
    "    \n",
    "    content=[]\n",
    "    title=[]\n",
    "    date=[]\n",
    "    \n",
    "    driver = webdriver.Chrome(\"C:/Users/jw517/Downloads/chromedriver_win32/chromedriver.exe\")\n",
    "    time.sleep(2)\n",
    "    \n",
    "    for i in range(1,page_num+1):\n",
    "        \n",
    "        driver.get(f'https://www.cbsnews.com/feature/election-2020/{i}/')\n",
    "        time.sleep(2)\n",
    "\n",
    "        html = driver.page_source\n",
    "        soup = BeautifulSoup(html, \"lxml\")\n",
    "        soup=soup.select('div.col-8.nocontent')[0].select('section')\n",
    "        \n",
    "        try:\n",
    "            for j in range(1,2): #26\n",
    "\n",
    "                title.append(soup[0].select('h4.item__hed')[j-1].text.strip())\n",
    "                date.append(soup[0].select('span.item__date')[0].text)\n",
    "\n",
    "                driver.find_element_by_xpath(f'//*[@id=\"component-election-2020\"]/div/article[{j}]/a').click()\n",
    "                time.sleep(2)\n",
    "\n",
    "                html_content = driver.page_source\n",
    "                soup_content = BeautifulSoup(html_content, \"lxml\")\n",
    "\n",
    "                lis=soup_content.select('article')[0].select('p')\n",
    "\n",
    "                if lis[0].text.strip()[:2]=='By':\n",
    "                    con=''\n",
    "                    for k in lis[2:]:\n",
    "                        con+=k.text.strip() \n",
    "\n",
    "                else:\n",
    "                    con=''\n",
    "                    for k in lis:\n",
    "                        con+=k.text.strip()\n",
    "\n",
    "\n",
    "                content.append(con)\n",
    "                driver.back()\n",
    "                time.sleep(2)\n",
    "        except:\n",
    "            pass\n",
    "        \n",
    "    df=pd.DataFrame({'date':date,'title':title,'content':content})\n",
    "    return df"
   ]
  },
  {
   "cell_type": "code",
   "execution_count": null,
   "metadata": {
    "id": "NDQrF7Snh51f"
   },
   "outputs": [],
   "source": [
    "data=cbs_news(5)"
   ]
  },
  {
   "cell_type": "code",
   "execution_count": null,
   "metadata": {
    "id": "MVqsTWmXh51l"
   },
   "outputs": [],
   "source": [
    "n=0\n",
    "data['date']=data['date'].str.replace('Oct','2020 10').replace('Sep','2020 09')\n",
    "data['date'][0:n+1]=datetime.date.today()\n",
    "data['date']=pd.to_datetime(data['date'])\n",
    "data"
   ]
  },
  {
   "cell_type": "code",
   "execution_count": null,
   "metadata": {
    "id": "AT2axCsBh51p",
    "outputId": "e61fc558-d2fd-49a3-b138-c2940226a81f"
   },
   "outputs": [
    {
     "data": {
      "text/html": [
       "<div>\n",
       "<style scoped>\n",
       "    .dataframe tbody tr th:only-of-type {\n",
       "        vertical-align: middle;\n",
       "    }\n",
       "\n",
       "    .dataframe tbody tr th {\n",
       "        vertical-align: top;\n",
       "    }\n",
       "\n",
       "    .dataframe thead th {\n",
       "        text-align: right;\n",
       "    }\n",
       "</style>\n",
       "<table border=\"1\" class=\"dataframe\">\n",
       "  <thead>\n",
       "    <tr style=\"text-align: right;\">\n",
       "      <th></th>\n",
       "      <th>date</th>\n",
       "      <th>title</th>\n",
       "      <th>content</th>\n",
       "    </tr>\n",
       "  </thead>\n",
       "  <tbody>\n",
       "    <tr>\n",
       "      <th>0</th>\n",
       "      <td>2020-11-02</td>\n",
       "      <td>Battleground Tracker: Biden leads, Trump needs...</td>\n",
       "      <td>Joe Biden heads into Election Day preferred by...</td>\n",
       "    </tr>\n",
       "    <tr>\n",
       "      <th>1</th>\n",
       "      <td>2020-10-29</td>\n",
       "      <td>Ricky Martin calls Latino support for Trump \"s...</td>\n",
       "      <td>Ricky Martin said it is \"super sad\" to see fel...</td>\n",
       "    </tr>\n",
       "    <tr>\n",
       "      <th>2</th>\n",
       "      <td>2020-10-25</td>\n",
       "      <td>Joe Biden makes the case for why he should be ...</td>\n",
       "      <td>The former vice president talks with Norah O'D...</td>\n",
       "    </tr>\n",
       "    <tr>\n",
       "      <th>3</th>\n",
       "      <td>2020-10-22</td>\n",
       "      <td>Supreme Court reinstates Alabama's ban on curb...</td>\n",
       "      <td>Washington — The Supreme Court late Wednesday ...</td>\n",
       "    </tr>\n",
       "    <tr>\n",
       "      <th>4</th>\n",
       "      <td>2020-10-19</td>\n",
       "      <td>The election issues making Michigan voters' he...</td>\n",
       "      <td>As election season comes to a close each cycle...</td>\n",
       "    </tr>\n",
       "  </tbody>\n",
       "</table>\n",
       "</div>"
      ],
      "text/plain": [
       "        date                                              title  \\\n",
       "0 2020-11-02  Battleground Tracker: Biden leads, Trump needs...   \n",
       "1 2020-10-29  Ricky Martin calls Latino support for Trump \"s...   \n",
       "2 2020-10-25  Joe Biden makes the case for why he should be ...   \n",
       "3 2020-10-22  Supreme Court reinstates Alabama's ban on curb...   \n",
       "4 2020-10-19  The election issues making Michigan voters' he...   \n",
       "\n",
       "                                             content  \n",
       "0  Joe Biden heads into Election Day preferred by...  \n",
       "1  Ricky Martin said it is \"super sad\" to see fel...  \n",
       "2  The former vice president talks with Norah O'D...  \n",
       "3  Washington — The Supreme Court late Wednesday ...  \n",
       "4  As election season comes to a close each cycle...  "
      ]
     },
     "execution_count": 817,
     "metadata": {
      "tags": []
     },
     "output_type": "execute_result"
    }
   ],
   "source": [
    "data"
   ]
  }
 ],
 "metadata": {
  "colab": {
   "name": "CBS_crawling.ipynb",
   "provenance": []
  },
  "kernelspec": {
   "display_name": "Python 3",
   "language": "python",
   "name": "python3"
  },
  "language_info": {
   "codemirror_mode": {
    "name": "ipython",
    "version": 3
   },
   "file_extension": ".py",
   "mimetype": "text/x-python",
   "name": "python",
   "nbconvert_exporter": "python",
   "pygments_lexer": "ipython3",
   "version": "3.7.6"
  }
 },
 "nbformat": 4,
 "nbformat_minor": 1
}
