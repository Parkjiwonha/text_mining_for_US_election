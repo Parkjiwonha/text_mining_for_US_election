{
 "cells": [
  {
   "cell_type": "code",
   "execution_count": 1,
   "metadata": {},
   "outputs": [],
   "source": [
    "from selenium import webdriver\n",
    "from bs4 import BeautifulSoup\n",
    "from urllib.request import Request, urlopen\n",
    "from selenium.webdriver.common.keys import Keys\n",
    "import time\n",
    "import re\n",
    "from tqdm.notebook import tqdm"
   ]
  },
  {
   "cell_type": "code",
   "execution_count": 2,
   "metadata": {},
   "outputs": [],
   "source": [
    "import pandas as pd\n",
    "import numpy as np\n",
    "import random\n",
    "from datetime import datetime ,timedelta , date"
   ]
  },
  {
   "cell_type": "markdown",
   "metadata": {},
   "source": [
    "### __크롬 드라이버 연동__"
   ]
  },
  {
   "cell_type": "code",
   "execution_count": 3,
   "metadata": {},
   "outputs": [],
   "source": [
    "my_path = 'D:/downloads/'\n",
    "driver = webdriver.Chrome(my_path+'chromedriver.exe')\n",
    "time.sleep(2)"
   ]
  },
  {
   "cell_type": "markdown",
   "metadata": {},
   "source": [
    "### __페이지 html 소스를 가져오기 전에 필터링을 적용하기 위한 함수들__"
   ]
  },
  {
   "cell_type": "markdown",
   "metadata": {},
   "source": [
    "__뉴스의 타입을 설정하는 함수 : article , video , slide 중 article 항목만 클릭__"
   ]
  },
  {
   "cell_type": "code",
   "execution_count": 4,
   "metadata": {},
   "outputs": [],
   "source": [
    "def select_type(driver):\n",
    "    driver.find_element_by_xpath('//*[@id=\"wrapper\"]/div/div[1]/div/div[2]/div[2]/button').click()\n",
    "    driver.find_element_by_xpath('//*[@id=\"wrapper\"]/div/div[1]/div/div[2]/div[2]/ul/li[1]/label').click()\n",
    "    time.sleep(2)\n",
    "    return"
   ]
  },
  {
   "cell_type": "markdown",
   "metadata": {},
   "source": [
    "__검색 기간을 설정하는 함수 : 밑에 메인 코드에서 start_date , end_date 를 설정함__"
   ]
  },
  {
   "cell_type": "code",
   "execution_count": 5,
   "metadata": {},
   "outputs": [],
   "source": [
    "def set_duration(driver): # 검색 기간 설정\n",
    "    driver.find_element_by_xpath('//*[@id=\"wrapper\"]/div/div[1]/div/div[2]/div[3]/div[1]/div[1]/button').click()\n",
    "    driver.find_element_by_xpath(f'//*[@id=\"{start_date[0]}\"]').click()\n",
    "\n",
    "    driver.find_element_by_xpath('//*[@id=\"wrapper\"]/div/div[1]/div/div[2]/div[3]/div[1]/div[2]/button').click()\n",
    "    driver.find_element_by_xpath(f'//*[@id=\"{start_date[1]}\"]').click()\n",
    "\n",
    "    driver.find_element_by_xpath('//*[@id=\"wrapper\"]/div/div[1]/div/div[2]/div[3]/div[1]/div[3]/button').click()\n",
    "    driver.find_element_by_xpath('//*[@id=\"2020\"]').click()\n",
    "    time.sleep(2)\n",
    "    \n",
    "    driver.find_element_by_xpath('//*[@id=\"wrapper\"]/div/div[1]/div/div[2]/div[3]/div[2]/div[1]/button').click()\n",
    "    driver.find_element_by_xpath(f'/html/body/div/div/div/div/div[1]/div/div[2]/div[3]/div[2]/div[1]/ul/li[{end_date[0]}]').click()\n",
    "\n",
    "    driver.find_element_by_xpath('//*[@id=\"wrapper\"]/div/div[1]/div/div[2]/div[3]/div[2]/div[2]/button').click()\n",
    "    driver.find_element_by_xpath(f'/html/body/div/div/div/div/div[1]/div/div[2]/div[3]/div[2]/div[2]/ul/li[{end_date[1]}]').click()\n",
    "\n",
    "    driver.find_element_by_xpath('/html/body/div/div/div/div/div[1]/div/div[2]/div[3]/div[2]/div[3]/button').click()\n",
    "    driver.find_element_by_xpath('/html/body/div/div/div/div/div[1]/div/div[2]/div[3]/div[2]/div[3]/ul/li[1]').click()\n",
    "    time.sleep(2)\n",
    "    return"
   ]
  },
  {
   "cell_type": "markdown",
   "metadata": {},
   "source": [
    "__필터 적용한 검색 버튼 클릭 함수__"
   ]
  },
  {
   "cell_type": "code",
   "execution_count": 6,
   "metadata": {},
   "outputs": [],
   "source": [
    "def filtered_search(driver):\n",
    "    driver.find_element_by_xpath('//*[@id=\"wrapper\"]/div/div[1]/div/div[1]/div[2]/div/a').click()\n",
    "    time.sleep(2)\n",
    "    return"
   ]
  },
  {
   "cell_type": "markdown",
   "metadata": {},
   "source": [
    "__Load more 버튼을 끝까지 눌러서 모든 기사를 페이지에 로딩하는 함수__ "
   ]
  },
  {
   "cell_type": "code",
   "execution_count": 7,
   "metadata": {},
   "outputs": [],
   "source": [
    "def load_all_news(driver):\n",
    "    while True:\n",
    "        try:\n",
    "            driver.find_element_by_xpath('/html/body/div/div/div/div/div[2]/div/div[3]/div[2]/a').click()\n",
    "            time.sleep(1.5)\n",
    "        except Exception as E:\n",
    "            print(E)\n",
    "            break\n",
    "    return"
   ]
  },
  {
   "cell_type": "markdown",
   "metadata": {},
   "source": [
    "__각 기사 태깅 후에 `12 hours ago` 와 같은 정보로 부터 날짜를 계산하는 함수: 현재 시간에서 빼는 형식으로__"
   ]
  },
  {
   "cell_type": "code",
   "execution_count": 8,
   "metadata": {},
   "outputs": [],
   "source": [
    "def get_date(tag): # 뉴스의 날짜 post date 계산\n",
    "    global current_time\n",
    "    \n",
    "    posted_time_str = articles[1].select('div.info > header > div > span.time')[0].text\n",
    "    if 'day' in posted_time_str:\n",
    "        days = re.search('\\d+',posted_time_str).group()\n",
    "        posted_time = current_time - timedelta(days = int(days))\n",
    "    else:\n",
    "        hours = re.search('\\d+',posted_time_str).group()\n",
    "        posted_time = current_time - timedelta(hours = int(hours))\n",
    "    \n",
    "    return date.isoformat(posted_time)"
   ]
  },
  {
   "cell_type": "markdown",
   "metadata": {},
   "source": [
    "### __검색 파라미터 설정__"
   ]
  },
  {
   "cell_type": "code",
   "execution_count": 9,
   "metadata": {},
   "outputs": [],
   "source": [
    "keywords = ['Trump','Biden','2020%20president']\n",
    "start_date=['10','25']\n",
    "end_date = ['10','31']\n",
    "current_time = datetime.now()\n",
    "data=pd.DataFrame()"
   ]
  },
  {
   "cell_type": "markdown",
   "metadata": {},
   "source": [
    "### 메인 코드"
   ]
  },
  {
   "cell_type": "code",
   "execution_count": 10,
   "metadata": {},
   "outputs": [
    {
     "name": "stdout",
     "output_type": "stream",
     "text": [
      "Message: element not interactable\n",
      "  (Session info: chrome=86.0.4240.75)\n",
      "\n",
      "Message: element not interactable\n",
      "  (Session info: chrome=86.0.4240.75)\n",
      "\n",
      "Message: element not interactable\n",
      "  (Session info: chrome=86.0.4240.75)\n",
      "\n"
     ]
    }
   ],
   "source": [
    "for keyword in keywords:\n",
    "    driver.get(f'https://www.foxnews.com/search-results/search?q={keyword}')\n",
    "    time.sleep(2)\n",
    "\n",
    "    select_type(driver)\n",
    "    set_duration(driver)\n",
    "    filtered_search(driver)\n",
    "    load_all_news(driver)\n",
    "\n",
    "    html = driver.page_source\n",
    "    soup = BeautifulSoup(html,'lxml')\n",
    "    articles = soup.select('#wrapper > div > div.search-results-content > div > div.collection.collection-search.active > div > article')\n",
    "\n",
    "    news = [ {'headlines':article.select('h2')[0].text,\n",
    "             'date':get_date(article),\n",
    "             'Press':'Fox',\n",
    "             'Link':article.select('div.info > header > h2 > a')[0].attrs['href'],\n",
    "             'keyword':keyword} for article in articles]\n",
    "    news_df = pd.DataFrame(news)\n",
    "    data = pd.concat([data,news_df])"
   ]
  },
  {
   "cell_type": "code",
   "execution_count": 11,
   "metadata": {},
   "outputs": [
    {
     "data": {
      "text/html": [
       "<div>\n",
       "<style scoped>\n",
       "    .dataframe tbody tr th:only-of-type {\n",
       "        vertical-align: middle;\n",
       "    }\n",
       "\n",
       "    .dataframe tbody tr th {\n",
       "        vertical-align: top;\n",
       "    }\n",
       "\n",
       "    .dataframe thead th {\n",
       "        text-align: right;\n",
       "    }\n",
       "</style>\n",
       "<table border=\"1\" class=\"dataframe\">\n",
       "  <thead>\n",
       "    <tr style=\"text-align: right;\">\n",
       "      <th></th>\n",
       "      <th>headlines</th>\n",
       "      <th>date</th>\n",
       "      <th>Press</th>\n",
       "      <th>Link</th>\n",
       "      <th>keyword</th>\n",
       "    </tr>\n",
       "  </thead>\n",
       "  <tbody>\n",
       "    <tr>\n",
       "      <th>0</th>\n",
       "      <td>Live Updates: 2020 presidential race, Biden vs...</td>\n",
       "      <td>2020-10-29</td>\n",
       "      <td>Fox</td>\n",
       "      <td>https://www.foxnews.com/politics/live-updates-...</td>\n",
       "      <td>Trump</td>\n",
       "    </tr>\n",
       "    <tr>\n",
       "      <th>1</th>\n",
       "      <td>Michael Moore doesn't believe the polls showin...</td>\n",
       "      <td>2020-10-29</td>\n",
       "      <td>Fox</td>\n",
       "      <td>https://www.foxnews.com/media/michael-moore-sa...</td>\n",
       "      <td>Trump</td>\n",
       "    </tr>\n",
       "    <tr>\n",
       "      <th>2</th>\n",
       "      <td>Rapper Lil Wayne meets with Trump</td>\n",
       "      <td>2020-10-29</td>\n",
       "      <td>Fox</td>\n",
       "      <td>https://www.foxnews.com/entertainment/rapper-l...</td>\n",
       "      <td>Trump</td>\n",
       "    </tr>\n",
       "    <tr>\n",
       "      <th>3</th>\n",
       "      <td>Fox News Poll: Biden's lead over Trump narrows...</td>\n",
       "      <td>2020-10-29</td>\n",
       "      <td>Fox</td>\n",
       "      <td>https://www.foxnews.com/politics/poll-biden-tr...</td>\n",
       "      <td>Trump</td>\n",
       "    </tr>\n",
       "    <tr>\n",
       "      <th>4</th>\n",
       "      <td>Golf legend Jack Nicklaus endorses Trump</td>\n",
       "      <td>2020-10-29</td>\n",
       "      <td>Fox</td>\n",
       "      <td>https://www.foxnews.com/sports/golf-legend-jac...</td>\n",
       "      <td>Trump</td>\n",
       "    </tr>\n",
       "    <tr>\n",
       "      <th>...</th>\n",
       "      <td>...</td>\n",
       "      <td>...</td>\n",
       "      <td>...</td>\n",
       "      <td>...</td>\n",
       "      <td>...</td>\n",
       "    </tr>\n",
       "    <tr>\n",
       "      <th>94</th>\n",
       "      <td>Coal workers fear a Biden presidency will deci...</td>\n",
       "      <td>2020-10-30</td>\n",
       "      <td>Fox</td>\n",
       "      <td>https://www.foxnews.com/us/coal-industry-biden...</td>\n",
       "      <td>2020%20president</td>\n",
       "    </tr>\n",
       "    <tr>\n",
       "      <th>95</th>\n",
       "      <td>Philadelphia police budget cuts sought by 4 co...</td>\n",
       "      <td>2020-10-30</td>\n",
       "      <td>Fox</td>\n",
       "      <td>https://www.foxnews.com/politics/philadelphia-...</td>\n",
       "      <td>2020%20president</td>\n",
       "    </tr>\n",
       "    <tr>\n",
       "      <th>96</th>\n",
       "      <td>Tucker Carlson: Hunter Biden scandal shows med...</td>\n",
       "      <td>2020-10-30</td>\n",
       "      <td>Fox</td>\n",
       "      <td>http://www.foxnews.com/opinion/tucker-carlson-...</td>\n",
       "      <td>2020%20president</td>\n",
       "    </tr>\n",
       "    <tr>\n",
       "      <th>97</th>\n",
       "      <td>Michigan bars, restaurants will require diners...</td>\n",
       "      <td>2020-10-30</td>\n",
       "      <td>Fox</td>\n",
       "      <td>https://www.foxnews.com/politics/michigan-bars...</td>\n",
       "      <td>2020%20president</td>\n",
       "    </tr>\n",
       "    <tr>\n",
       "      <th>98</th>\n",
       "      <td>As Anonymous admits lying, will the vitriol ra...</td>\n",
       "      <td>2020-10-30</td>\n",
       "      <td>Fox</td>\n",
       "      <td>https://www.foxnews.com/media/as-anonymous-adm...</td>\n",
       "      <td>2020%20president</td>\n",
       "    </tr>\n",
       "  </tbody>\n",
       "</table>\n",
       "<p>279 rows × 5 columns</p>\n",
       "</div>"
      ],
      "text/plain": [
       "                                            headlines        date Press  \\\n",
       "0   Live Updates: 2020 presidential race, Biden vs...  2020-10-29   Fox   \n",
       "1   Michael Moore doesn't believe the polls showin...  2020-10-29   Fox   \n",
       "2                   Rapper Lil Wayne meets with Trump  2020-10-29   Fox   \n",
       "3   Fox News Poll: Biden's lead over Trump narrows...  2020-10-29   Fox   \n",
       "4            Golf legend Jack Nicklaus endorses Trump  2020-10-29   Fox   \n",
       "..                                                ...         ...   ...   \n",
       "94  Coal workers fear a Biden presidency will deci...  2020-10-30   Fox   \n",
       "95  Philadelphia police budget cuts sought by 4 co...  2020-10-30   Fox   \n",
       "96  Tucker Carlson: Hunter Biden scandal shows med...  2020-10-30   Fox   \n",
       "97  Michigan bars, restaurants will require diners...  2020-10-30   Fox   \n",
       "98  As Anonymous admits lying, will the vitriol ra...  2020-10-30   Fox   \n",
       "\n",
       "                                                 Link           keyword  \n",
       "0   https://www.foxnews.com/politics/live-updates-...             Trump  \n",
       "1   https://www.foxnews.com/media/michael-moore-sa...             Trump  \n",
       "2   https://www.foxnews.com/entertainment/rapper-l...             Trump  \n",
       "3   https://www.foxnews.com/politics/poll-biden-tr...             Trump  \n",
       "4   https://www.foxnews.com/sports/golf-legend-jac...             Trump  \n",
       "..                                                ...               ...  \n",
       "94  https://www.foxnews.com/us/coal-industry-biden...  2020%20president  \n",
       "95  https://www.foxnews.com/politics/philadelphia-...  2020%20president  \n",
       "96  http://www.foxnews.com/opinion/tucker-carlson-...  2020%20president  \n",
       "97  https://www.foxnews.com/politics/michigan-bars...  2020%20president  \n",
       "98  https://www.foxnews.com/media/as-anonymous-adm...  2020%20president  \n",
       "\n",
       "[279 rows x 5 columns]"
      ]
     },
     "execution_count": 11,
     "metadata": {},
     "output_type": "execute_result"
    }
   ],
   "source": [
    "data"
   ]
  }
 ],
 "metadata": {
  "kernelspec": {
   "display_name": "Python 3",
   "language": "python",
   "name": "python3"
  },
  "language_info": {
   "codemirror_mode": {
    "name": "ipython",
    "version": 3
   },
   "file_extension": ".py",
   "mimetype": "text/x-python",
   "name": "python",
   "nbconvert_exporter": "python",
   "pygments_lexer": "ipython3",
   "version": "3.8.3"
  }
 },
 "nbformat": 4,
 "nbformat_minor": 4
}
