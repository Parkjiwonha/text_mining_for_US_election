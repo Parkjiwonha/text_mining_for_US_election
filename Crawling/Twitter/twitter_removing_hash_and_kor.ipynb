{
 "cells": [
  {
   "cell_type": "code",
   "execution_count": 31,
   "metadata": {},
   "outputs": [],
   "source": [
    "import pandas as pd\n",
    "import numpy as np\n",
    "import re"
   ]
  },
  {
   "cell_type": "markdown",
   "metadata": {},
   "source": [
    "__데이터 로드__"
   ]
  },
  {
   "cell_type": "code",
   "execution_count": 32,
   "metadata": {},
   "outputs": [],
   "source": [
    "path='D:/세미 1차 텍스트 마이닝/formats/'\n",
    "from_B = pd.read_csv(path+'from_Biden_with_hashtag.csv')\n",
    "to_B = pd.read_csv(path+'to_Biden_with_hashtag.csv')\n",
    "from_T = pd.read_csv(path+'from_Trump_with_hashtag.csv')\n",
    "to_T = pd.read_csv(path+'to_Trump_with_hashtag.csv')"
   ]
  },
  {
   "cell_type": "markdown",
   "metadata": {},
   "source": [
    "__바이든에게 한 트윗 중 1개가 본문이 결측이던데 왜지? ,,__"
   ]
  },
  {
   "cell_type": "code",
   "execution_count": 33,
   "metadata": {},
   "outputs": [],
   "source": [
    "to_B = to_B[to_B.text.notnull()]"
   ]
  },
  {
   "cell_type": "markdown",
   "metadata": {},
   "source": [
    "__해쉬태그를 뽑아 반환하는 함수 , 해쉬태그와 한글을 싸그리 제거하는 함수__"
   ]
  },
  {
   "cell_type": "code",
   "execution_count": 34,
   "metadata": {},
   "outputs": [],
   "source": [
    "def get_tag(row):\n",
    "    hash_tags = re.findall('#\\w+',row.text)\n",
    "    if not hash_tags:\n",
    "        return np.nan\n",
    "    return hash_tags\n",
    "\n",
    "def remove_tag_and_kor(row):\n",
    "    \n",
    "    row.text = re.sub('#\\w+|[가-힣]+','',row.text)\n",
    "    return row"
   ]
  },
  {
   "cell_type": "code",
   "execution_count": 35,
   "metadata": {},
   "outputs": [],
   "source": [
    "from_B['hash_tags'] = from_B.apply(get_tag,axis=1)\n",
    "from_B = from_B.apply(remove_tag_and_kor,axis=1)\n",
    "\n",
    "to_B['hash_tags'] = to_B.apply(get_tag,axis=1)\n",
    "to_B = to_B.apply(remove_tag_and_kor,axis=1)\n",
    "\n",
    "from_T['hash_tags'] = from_T.apply(get_tag,axis=1)\n",
    "from_T = from_T.apply(remove_tag_and_kor,axis=1)\n",
    "\n",
    "to_T['hash_tags'] = to_T.apply(get_tag,axis=1)\n",
    "to_T = to_T.apply(remove_tag_and_kor,axis=1)"
   ]
  },
  {
   "cell_type": "markdown",
   "metadata": {},
   "source": [
    "__잘들 적용되었나__"
   ]
  },
  {
   "cell_type": "code",
   "execution_count": 36,
   "metadata": {},
   "outputs": [
    {
     "data": {
      "text/html": [
       "<div>\n",
       "<style scoped>\n",
       "    .dataframe tbody tr th:only-of-type {\n",
       "        vertical-align: middle;\n",
       "    }\n",
       "\n",
       "    .dataframe tbody tr th {\n",
       "        vertical-align: top;\n",
       "    }\n",
       "\n",
       "    .dataframe thead th {\n",
       "        text-align: right;\n",
       "    }\n",
       "</style>\n",
       "<table border=\"1\" class=\"dataframe\">\n",
       "  <thead>\n",
       "    <tr style=\"text-align: right;\">\n",
       "      <th></th>\n",
       "      <th>date</th>\n",
       "      <th>text</th>\n",
       "      <th>hash_tags</th>\n",
       "    </tr>\n",
       "  </thead>\n",
       "  <tbody>\n",
       "    <tr>\n",
       "      <th>44</th>\n",
       "      <td>2020-09-07</td>\n",
       "      <td>Today, we honor the generations of union worke...</td>\n",
       "      <td>[#LaborDay88]</td>\n",
       "    </tr>\n",
       "    <tr>\n",
       "      <th>70</th>\n",
       "      <td>2020-09-10</td>\n",
       "      <td>Roberto Clemente was an incredible baseball pl...</td>\n",
       "      <td>[#21]</td>\n",
       "    </tr>\n",
       "    <tr>\n",
       "      <th>90</th>\n",
       "      <td>2020-09-13</td>\n",
       "      <td>Iran’s cruel execution of Navid Afkari is a tr...</td>\n",
       "      <td>[#NavidAfkari, #نوید_افکاری]</td>\n",
       "    </tr>\n",
       "    <tr>\n",
       "      <th>135</th>\n",
       "      <td>2020-09-18</td>\n",
       "      <td>Ahead of , Jill and I want to wish everyone in...</td>\n",
       "      <td>[#RoshHashanah, #RoshHashanah]</td>\n",
       "    </tr>\n",
       "    <tr>\n",
       "      <th>140</th>\n",
       "      <td>2020-09-19</td>\n",
       "      <td>Jill and I wish our friends in the Jewish comm...</td>\n",
       "      <td>[#RoshHashanah1]</td>\n",
       "    </tr>\n",
       "  </tbody>\n",
       "</table>\n",
       "</div>"
      ],
      "text/plain": [
       "           date                                               text  \\\n",
       "44   2020-09-07  Today, we honor the generations of union worke...   \n",
       "70   2020-09-10  Roberto Clemente was an incredible baseball pl...   \n",
       "90   2020-09-13  Iran’s cruel execution of Navid Afkari is a tr...   \n",
       "135  2020-09-18  Ahead of , Jill and I want to wish everyone in...   \n",
       "140  2020-09-19  Jill and I wish our friends in the Jewish comm...   \n",
       "\n",
       "                          hash_tags  \n",
       "44                    [#LaborDay88]  \n",
       "70                            [#21]  \n",
       "90     [#NavidAfkari, #نوید_افکاری]  \n",
       "135  [#RoshHashanah, #RoshHashanah]  \n",
       "140                [#RoshHashanah1]  "
      ]
     },
     "execution_count": 36,
     "metadata": {},
     "output_type": "execute_result"
    }
   ],
   "source": [
    "from_B[from_B.hash_tags.notnull()].head()"
   ]
  },
  {
   "cell_type": "code",
   "execution_count": 37,
   "metadata": {},
   "outputs": [
    {
     "data": {
      "text/html": [
       "<div>\n",
       "<style scoped>\n",
       "    .dataframe tbody tr th:only-of-type {\n",
       "        vertical-align: middle;\n",
       "    }\n",
       "\n",
       "    .dataframe tbody tr th {\n",
       "        vertical-align: top;\n",
       "    }\n",
       "\n",
       "    .dataframe thead th {\n",
       "        text-align: right;\n",
       "    }\n",
       "</style>\n",
       "<table border=\"1\" class=\"dataframe\">\n",
       "  <thead>\n",
       "    <tr style=\"text-align: right;\">\n",
       "      <th></th>\n",
       "      <th>date</th>\n",
       "      <th>text</th>\n",
       "      <th>hash_tags</th>\n",
       "    </tr>\n",
       "  </thead>\n",
       "  <tbody>\n",
       "    <tr>\n",
       "      <th>7</th>\n",
       "      <td>2020-09-02</td>\n",
       "      <td>If I am elected President it will be in anothe...</td>\n",
       "      <td>[#JoeBiden]</td>\n",
       "    </tr>\n",
       "    <tr>\n",
       "      <th>22</th>\n",
       "      <td>2020-09-03</td>\n",
       "      <td>Voting for you in person in Virginia Joe.</td>\n",
       "      <td>[#BidenHarrisLandslide202016]</td>\n",
       "    </tr>\n",
       "    <tr>\n",
       "      <th>28</th>\n",
       "      <td>2020-09-03</td>\n",
       "      <td>Thank GOD for  -  - it’s time for some account...</td>\n",
       "      <td>[#QuidProJoe, #Burisma, #Ukraine, #MoneyLaunde...</td>\n",
       "    </tr>\n",
       "    <tr>\n",
       "      <th>35</th>\n",
       "      <td>2020-09-04</td>\n",
       "      <td>Oh please.Who wrote this poetic nonsense for y...</td>\n",
       "      <td>[#Trump202014]</td>\n",
       "    </tr>\n",
       "    <tr>\n",
       "      <th>44</th>\n",
       "      <td>2020-09-04</td>\n",
       "      <td>No idiot. It’s because of the  World Health Or...</td>\n",
       "      <td>[#Clueless7]</td>\n",
       "    </tr>\n",
       "  </tbody>\n",
       "</table>\n",
       "</div>"
      ],
      "text/plain": [
       "          date                                               text  \\\n",
       "7   2020-09-02  If I am elected President it will be in anothe...   \n",
       "22  2020-09-03          Voting for you in person in Virginia Joe.   \n",
       "28  2020-09-03  Thank GOD for  -  - it’s time for some account...   \n",
       "35  2020-09-04  Oh please.Who wrote this poetic nonsense for y...   \n",
       "44  2020-09-04  No idiot. It’s because of the  World Health Or...   \n",
       "\n",
       "                                            hash_tags  \n",
       "7                                         [#JoeBiden]  \n",
       "22                      [#BidenHarrisLandslide202016]  \n",
       "28  [#QuidProJoe, #Burisma, #Ukraine, #MoneyLaunde...  \n",
       "35                                     [#Trump202014]  \n",
       "44                                       [#Clueless7]  "
      ]
     },
     "execution_count": 37,
     "metadata": {},
     "output_type": "execute_result"
    }
   ],
   "source": [
    "to_B[to_B.hash_tags.notnull()].head()"
   ]
  },
  {
   "cell_type": "code",
   "execution_count": 38,
   "metadata": {},
   "outputs": [
    {
     "data": {
      "text/html": [
       "<div>\n",
       "<style scoped>\n",
       "    .dataframe tbody tr th:only-of-type {\n",
       "        vertical-align: middle;\n",
       "    }\n",
       "\n",
       "    .dataframe tbody tr th {\n",
       "        vertical-align: top;\n",
       "    }\n",
       "\n",
       "    .dataframe thead th {\n",
       "        text-align: right;\n",
       "    }\n",
       "</style>\n",
       "<table border=\"1\" class=\"dataframe\">\n",
       "  <thead>\n",
       "    <tr style=\"text-align: right;\">\n",
       "      <th></th>\n",
       "      <th>date</th>\n",
       "      <th>text</th>\n",
       "      <th>hash_tags</th>\n",
       "    </tr>\n",
       "  </thead>\n",
       "  <tbody>\n",
       "    <tr>\n",
       "      <th>6</th>\n",
       "      <td>2020-09-02</td>\n",
       "      <td>True! Andrew Pollackwill always care for the f...</td>\n",
       "      <td>[#Fixit5]</td>\n",
       "    </tr>\n",
       "    <tr>\n",
       "      <th>48</th>\n",
       "      <td>2020-09-04</td>\n",
       "      <td>THANK YOU LATROBE, PENNSYLVANIA! :40:20112.9 3...</td>\n",
       "      <td>[#MAGA1]</td>\n",
       "    </tr>\n",
       "    <tr>\n",
       "      <th>57</th>\n",
       "      <td>2020-09-05</td>\n",
       "      <td>Thank you Mark! MARK SIMONEI remember when Pre...</td>\n",
       "      <td>[#trump, #MAGA, #Veterans, #VeteransForTrump5]</td>\n",
       "    </tr>\n",
       "    <tr>\n",
       "      <th>59</th>\n",
       "      <td>2020-09-05</td>\n",
       "      <td>Another day everyone thought would be impossib...</td>\n",
       "      <td>[#EconomicNormalization]</td>\n",
       "    </tr>\n",
       "    <tr>\n",
       "      <th>64</th>\n",
       "      <td>2020-09-05</td>\n",
       "      <td>THANK YOU! .52.611.5</td>\n",
       "      <td>[#MAGA1]</td>\n",
       "    </tr>\n",
       "  </tbody>\n",
       "</table>\n",
       "</div>"
      ],
      "text/plain": [
       "          date                                               text  \\\n",
       "6   2020-09-02  True! Andrew Pollackwill always care for the f...   \n",
       "48  2020-09-04  THANK YOU LATROBE, PENNSYLVANIA! :40:20112.9 3...   \n",
       "57  2020-09-05  Thank you Mark! MARK SIMONEI remember when Pre...   \n",
       "59  2020-09-05  Another day everyone thought would be impossib...   \n",
       "64  2020-09-05                               THANK YOU! .52.611.5   \n",
       "\n",
       "                                         hash_tags  \n",
       "6                                        [#Fixit5]  \n",
       "48                                        [#MAGA1]  \n",
       "57  [#trump, #MAGA, #Veterans, #VeteransForTrump5]  \n",
       "59                        [#EconomicNormalization]  \n",
       "64                                        [#MAGA1]  "
      ]
     },
     "execution_count": 38,
     "metadata": {},
     "output_type": "execute_result"
    }
   ],
   "source": [
    "from_T[from_T.hash_tags.notnull()].head()"
   ]
  },
  {
   "cell_type": "code",
   "execution_count": 39,
   "metadata": {},
   "outputs": [
    {
     "data": {
      "text/html": [
       "<div>\n",
       "<style scoped>\n",
       "    .dataframe tbody tr th:only-of-type {\n",
       "        vertical-align: middle;\n",
       "    }\n",
       "\n",
       "    .dataframe tbody tr th {\n",
       "        vertical-align: top;\n",
       "    }\n",
       "\n",
       "    .dataframe thead th {\n",
       "        text-align: right;\n",
       "    }\n",
       "</style>\n",
       "<table border=\"1\" class=\"dataframe\">\n",
       "  <thead>\n",
       "    <tr style=\"text-align: right;\">\n",
       "      <th></th>\n",
       "      <th>date</th>\n",
       "      <th>text</th>\n",
       "      <th>hash_tags</th>\n",
       "    </tr>\n",
       "  </thead>\n",
       "  <tbody>\n",
       "    <tr>\n",
       "      <th>4</th>\n",
       "      <td>2020-09-02</td>\n",
       "      <td>You like TV, right? There’s a casting call fo...</td>\n",
       "      <td>[#Strokeahontas]</td>\n",
       "    </tr>\n",
       "    <tr>\n",
       "      <th>10</th>\n",
       "      <td>2020-09-02</td>\n",
       "      <td>Whatever you say,</td>\n",
       "      <td>[#Strokeahontas11]</td>\n",
       "    </tr>\n",
       "    <tr>\n",
       "      <th>11</th>\n",
       "      <td>2020-09-02</td>\n",
       "      <td>Trump is not with Kenosha, but with out-of-sta...</td>\n",
       "      <td>[#TrumpGestapo, #TrumpVirus]</td>\n",
       "    </tr>\n",
       "    <tr>\n",
       "      <th>31</th>\n",
       "      <td>2020-09-03</td>\n",
       "      <td>So sir I have been borrowing your name just w...</td>\n",
       "      <td>[#PIZZAGATE, #PIZZAGATE]</td>\n",
       "    </tr>\n",
       "    <tr>\n",
       "      <th>33</th>\n",
       "      <td>2020-09-03</td>\n",
       "      <td>That’s how Biden will debate also.  He wants q...</td>\n",
       "      <td>[#HidenBiden23]</td>\n",
       "    </tr>\n",
       "  </tbody>\n",
       "</table>\n",
       "</div>"
      ],
      "text/plain": [
       "          date                                               text  \\\n",
       "4   2020-09-02   You like TV, right? There’s a casting call fo...   \n",
       "10  2020-09-02                                 Whatever you say,    \n",
       "11  2020-09-02  Trump is not with Kenosha, but with out-of-sta...   \n",
       "31  2020-09-03   So sir I have been borrowing your name just w...   \n",
       "33  2020-09-03  That’s how Biden will debate also.  He wants q...   \n",
       "\n",
       "                       hash_tags  \n",
       "4               [#Strokeahontas]  \n",
       "10            [#Strokeahontas11]  \n",
       "11  [#TrumpGestapo, #TrumpVirus]  \n",
       "31      [#PIZZAGATE, #PIZZAGATE]  \n",
       "33               [#HidenBiden23]  "
      ]
     },
     "execution_count": 39,
     "metadata": {},
     "output_type": "execute_result"
    }
   ],
   "source": [
    "to_T[to_T.hash_tags.notnull()].head()"
   ]
  },
  {
   "cell_type": "markdown",
   "metadata": {},
   "source": [
    "__저어어어어어어어장__"
   ]
  },
  {
   "cell_type": "code",
   "execution_count": 40,
   "metadata": {},
   "outputs": [],
   "source": [
    "to_B.to_csv(path+'to_Biden_without_hashtag.csv',index=False)\n",
    "from_B.to_csv(path+'from_Biden_without_hashtag.csv',index=False)\n",
    "to_T.to_csv(path+'to_Trump_without_hashtag.csv',index=False)\n",
    "from_T.to_csv(path+'from_Trump_without_hashtag.csv',index=False)"
   ]
  }
 ],
 "metadata": {
  "kernelspec": {
   "display_name": "Python 3",
   "language": "python",
   "name": "python3"
  },
  "language_info": {
   "codemirror_mode": {
    "name": "ipython",
    "version": 3
   },
   "file_extension": ".py",
   "mimetype": "text/x-python",
   "name": "python",
   "nbconvert_exporter": "python",
   "pygments_lexer": "ipython3",
   "version": "3.8.3"
  }
 },
 "nbformat": 4,
 "nbformat_minor": 4
}
