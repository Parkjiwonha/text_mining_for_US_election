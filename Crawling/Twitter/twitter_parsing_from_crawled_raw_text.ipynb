{
 "cells": [
  {
   "cell_type": "code",
   "execution_count": 134,
   "metadata": {},
   "outputs": [],
   "source": [
    "import pandas as pd\n",
    "import numpy as np\n",
    "import re"
   ]
  },
  {
   "cell_type": "markdown",
   "metadata": {},
   "source": [
    "__데이터로드__"
   ]
  },
  {
   "cell_type": "code",
   "execution_count": 135,
   "metadata": {},
   "outputs": [],
   "source": [
    "path='D:/세미 1차 텍스트 마이닝/formats/'\n",
    "bt = pd.read_csv(path+'Biden_twitter.csv')\n",
    "p2b = pd.read_csv(path+'ppl2Biden_twitter.csv')\n",
    "tt = pd.read_csv(path+'Trump_twitter.csv')\n",
    "p2t = pd.read_csv(path+'ppl2Trump_twitter.csv')"
   ]
  },
  {
   "cell_type": "markdown",
   "metadata": {},
   "source": [
    "__중복제거__"
   ]
  },
  {
   "cell_type": "code",
   "execution_count": 136,
   "metadata": {},
   "outputs": [],
   "source": [
    "to_Biden = p2b.drop_duplicates()\n",
    "from_Biden = bt.drop_duplicates()\n",
    "\n",
    "to_Trump = p2t.drop_duplicates()\n",
    "from_Trump = tt.drop_duplicates()"
   ]
  },
  {
   "cell_type": "markdown",
   "metadata": {},
   "source": [
    "__정상 트윗 여부 칼럼 추가 (트위터 법 위반 어쩌구 텍스트가 있는 행들은 '·' 이게 없음)__"
   ]
  },
  {
   "cell_type": "code",
   "execution_count": 137,
   "metadata": {},
   "outputs": [],
   "source": [
    "def valid_tweet(row):\n",
    "    text_list = row.values[0].split('\\n')  \n",
    "    try:\n",
    "        dot_position = text_list[1:4].index('·') # 요고\n",
    "        return True\n",
    "    except ValueError:\n",
    "        return False"
   ]
  },
  {
   "cell_type": "code",
   "execution_count": 138,
   "metadata": {},
   "outputs": [],
   "source": [
    "from_Biden = pd.concat([from_Biden,pd.Series(from_Biden.apply(valid_tweet,axis=1),name='valid')],axis=1)\n",
    "to_Biden = pd.concat([to_Biden,pd.Series(to_Biden.apply(valid_tweet,axis=1),name='valid')],axis=1)\n",
    "\n",
    "from_Trump = pd.concat([from_Trump,pd.Series(from_Trump.apply(valid_tweet,axis=1),name='valid')],axis=1)\n",
    "to_Trump = pd.concat([to_Trump,pd.Series(to_Trump.apply(valid_tweet,axis=1),name='valid')],axis=1)"
   ]
  },
  {
   "cell_type": "markdown",
   "metadata": {},
   "source": [
    "__각 데이터 별 비정상 데이터 수__"
   ]
  },
  {
   "cell_type": "code",
   "execution_count": 139,
   "metadata": {},
   "outputs": [
    {
     "data": {
      "text/plain": [
       "(0, 7)"
      ]
     },
     "execution_count": 139,
     "metadata": {},
     "output_type": "execute_result"
    }
   ],
   "source": [
    "(from_Biden.valid==False).sum() , (to_Biden.valid==False).sum()"
   ]
  },
  {
   "cell_type": "code",
   "execution_count": 140,
   "metadata": {},
   "outputs": [
    {
     "data": {
      "text/plain": [
       "(4, 7)"
      ]
     },
     "execution_count": 140,
     "metadata": {},
     "output_type": "execute_result"
    }
   ],
   "source": [
    "(from_Trump.valid==False).sum() , (to_Trump.valid==False).sum() "
   ]
  },
  {
   "cell_type": "markdown",
   "metadata": {},
   "source": [
    "__정상 데이터만 남기기__"
   ]
  },
  {
   "cell_type": "code",
   "execution_count": 141,
   "metadata": {},
   "outputs": [],
   "source": [
    "from_Biden = from_Biden[from_Biden['valid']==True]\n",
    "to_Biden = to_Biden[to_Biden['valid']==True]\n",
    "\n",
    "from_Trump = from_Trump[from_Trump['valid']==True]\n",
    "to_Trump = to_Trump[to_Trump['valid']==True]"
   ]
  },
  {
   "cell_type": "markdown",
   "metadata": {},
   "source": [
    "__텍스트 파싱하기 (date , text) 만 관심 사항__"
   ]
  },
  {
   "cell_type": "code",
   "execution_count": 142,
   "metadata": {},
   "outputs": [],
   "source": [
    "def parse_text_crop(text):\n",
    "    text_list = text.split('\\n') \n",
    "\n",
    "    dot_position = text_list[1:4].index('·')  \n",
    "\n",
    "    date = text_list[dot_position + 2] \n",
    "\n",
    "    \n",
    "    if \" 님에게 보내는 답글\" in text_list:\n",
    "        idx = text_list.index(\" 님에게 보내는 답글\")+1\n",
    "    else:\n",
    "        idx = dot_position+2\n",
    "    \n",
    "    text=''\n",
    "    if idx<len(text_list):\n",
    "        \n",
    "        for i in range(idx,len(text_list)):\n",
    "            if '@' in text_list[i]:\n",
    "                continue\n",
    "            if '월' in text_list[i]:\n",
    "                continue\n",
    "            text+= text_list[i]\n",
    "\n",
    "    return pd.Series([date, text])"
   ]
  },
  {
   "cell_type": "code",
   "execution_count": 143,
   "metadata": {},
   "outputs": [],
   "source": [
    "to_Biden_parsed = pd.DataFrame()\n",
    "to_Biden_parsed[['date', 'text']] = to_Biden['all_text'].apply(parse_text_crop)\n",
    "\n",
    "\n",
    "from_Biden_parsed = pd.DataFrame()\n",
    "from_Biden_parsed[['date', 'text']] = from_Biden['all_text'].apply(parse_text_crop)\n",
    "\n",
    "\n",
    "to_Trump_parsed = pd.DataFrame()\n",
    "to_Trump_parsed[['date', 'text']] = to_Trump['all_text'].apply(parse_text_crop)\n",
    "\n",
    "\n",
    "from_Trump_parsed = pd.DataFrame()\n",
    "from_Trump_parsed[['date', 'text']] = from_Trump['all_text'].apply(parse_text_crop)"
   ]
  },
  {
   "cell_type": "markdown",
   "metadata": {},
   "source": [
    "__혹시나 결측 있나__"
   ]
  },
  {
   "cell_type": "code",
   "execution_count": 144,
   "metadata": {},
   "outputs": [
    {
     "data": {
      "text/plain": [
       "(date    0\n",
       " text    0\n",
       " dtype: int64,\n",
       " date    0\n",
       " text    0\n",
       " dtype: int64)"
      ]
     },
     "execution_count": 144,
     "metadata": {},
     "output_type": "execute_result"
    }
   ],
   "source": [
    "to_Biden_parsed.isnull().sum() , from_Biden_parsed.isnull().sum()"
   ]
  },
  {
   "cell_type": "code",
   "execution_count": 145,
   "metadata": {},
   "outputs": [
    {
     "data": {
      "text/plain": [
       "(date    0\n",
       " text    0\n",
       " dtype: int64,\n",
       " date    0\n",
       " text    0\n",
       " dtype: int64)"
      ]
     },
     "execution_count": 145,
     "metadata": {},
     "output_type": "execute_result"
    }
   ],
   "source": [
    "to_Trump_parsed.isnull().sum() , from_Trump_parsed.isnull().sum()"
   ]
  },
  {
   "cell_type": "markdown",
   "metadata": {},
   "source": [
    "__date 칼럼을 우선 date 객체로 만들고 , datetime64[ns]로 다시 바꿔서 dt 접근 가능하게 만들어서 9월 이전 데이터 짜르기__  \n",
    "(간혹 3,7월 데이터가 몇개 섞여있어서 뺌)"
   ]
  },
  {
   "cell_type": "code",
   "execution_count": 146,
   "metadata": {},
   "outputs": [],
   "source": [
    "from datetime import date\n",
    "\n",
    "def as_datetime(element):\n",
    "    dates=re.findall('\\d+',element)\n",
    "    if len(dates)>2:\n",
    "        dates = dates[1:]\n",
    "    ret_val = date(2020,int(dates[0]),int(dates[1]))\n",
    "\n",
    "    return ret_val"
   ]
  },
  {
   "cell_type": "code",
   "execution_count": 147,
   "metadata": {},
   "outputs": [],
   "source": [
    "to_Biden_parsed.date = to_Biden_parsed.date.apply(as_datetime)\n",
    "from_Biden_parsed.date = from_Biden_parsed.date.apply(as_datetime)\n",
    "\n",
    "to_Trump_parsed.date = to_Trump_parsed.date.apply(as_datetime)\n",
    "from_Trump_parsed.date = from_Trump_parsed.date.apply(as_datetime)\n",
    "\n",
    "to_Biden_parsed.date = to_Biden_parsed.date.astype('datetime64[ns]')\n",
    "from_Biden_parsed.date = from_Biden_parsed.date.astype('datetime64[ns]')\n",
    "\n",
    "to_Trump_parsed.date = to_Trump_parsed.date.astype('datetime64[ns]')\n",
    "from_Trump_parsed.date = from_Trump_parsed.date.astype('datetime64[ns]')"
   ]
  },
  {
   "cell_type": "code",
   "execution_count": 148,
   "metadata": {},
   "outputs": [],
   "source": [
    "to_Biden_parsed = to_Biden_parsed[to_Biden_parsed.date.dt.month>8]\n",
    "from_Biden_parsed = from_Biden_parsed[from_Biden_parsed.date.dt.month>8]\n",
    "\n",
    "to_Trump_parsed = to_Trump_parsed[to_Trump_parsed.date.dt.month>8]\n",
    "from_Trump_parsed = from_Trump_parsed[from_Trump_parsed.date.dt.month>8]"
   ]
  },
  {
   "cell_type": "markdown",
   "metadata": {},
   "source": [
    "__잘 적용되었나__"
   ]
  },
  {
   "cell_type": "code",
   "execution_count": 149,
   "metadata": {
    "scrolled": false
   },
   "outputs": [
    {
     "data": {
      "text/html": [
       "<div>\n",
       "<style scoped>\n",
       "    .dataframe tbody tr th:only-of-type {\n",
       "        vertical-align: middle;\n",
       "    }\n",
       "\n",
       "    .dataframe tbody tr th {\n",
       "        vertical-align: top;\n",
       "    }\n",
       "\n",
       "    .dataframe thead th {\n",
       "        text-align: right;\n",
       "    }\n",
       "</style>\n",
       "<table border=\"1\" class=\"dataframe\">\n",
       "  <thead>\n",
       "    <tr style=\"text-align: right;\">\n",
       "      <th></th>\n",
       "      <th>date</th>\n",
       "      <th>text</th>\n",
       "    </tr>\n",
       "  </thead>\n",
       "  <tbody>\n",
       "    <tr>\n",
       "      <th>0</th>\n",
       "      <td>2020-09-02</td>\n",
       "      <td>Joe Haven't you been in government for like 47...</td>\n",
       "    </tr>\n",
       "  </tbody>\n",
       "</table>\n",
       "</div>"
      ],
      "text/plain": [
       "        date                                               text\n",
       "0 2020-09-02  Joe Haven't you been in government for like 47..."
      ]
     },
     "execution_count": 149,
     "metadata": {},
     "output_type": "execute_result"
    }
   ],
   "source": [
    "to_Biden_parsed.head(1)"
   ]
  },
  {
   "cell_type": "code",
   "execution_count": 150,
   "metadata": {},
   "outputs": [
    {
     "data": {
      "text/html": [
       "<div>\n",
       "<style scoped>\n",
       "    .dataframe tbody tr th:only-of-type {\n",
       "        vertical-align: middle;\n",
       "    }\n",
       "\n",
       "    .dataframe tbody tr th {\n",
       "        vertical-align: top;\n",
       "    }\n",
       "\n",
       "    .dataframe thead th {\n",
       "        text-align: right;\n",
       "    }\n",
       "</style>\n",
       "<table border=\"1\" class=\"dataframe\">\n",
       "  <thead>\n",
       "    <tr style=\"text-align: right;\">\n",
       "      <th></th>\n",
       "      <th>date</th>\n",
       "      <th>text</th>\n",
       "    </tr>\n",
       "  </thead>\n",
       "  <tbody>\n",
       "    <tr>\n",
       "      <th>0</th>\n",
       "      <td>2020-09-01</td>\n",
       "      <td>I urge President Trump to join me in saying th...</td>\n",
       "    </tr>\n",
       "  </tbody>\n",
       "</table>\n",
       "</div>"
      ],
      "text/plain": [
       "        date                                               text\n",
       "0 2020-09-01  I urge President Trump to join me in saying th..."
      ]
     },
     "execution_count": 150,
     "metadata": {},
     "output_type": "execute_result"
    }
   ],
   "source": [
    "from_Biden_parsed.head(1)"
   ]
  },
  {
   "cell_type": "code",
   "execution_count": 151,
   "metadata": {},
   "outputs": [
    {
     "data": {
      "text/html": [
       "<div>\n",
       "<style scoped>\n",
       "    .dataframe tbody tr th:only-of-type {\n",
       "        vertical-align: middle;\n",
       "    }\n",
       "\n",
       "    .dataframe tbody tr th {\n",
       "        vertical-align: top;\n",
       "    }\n",
       "\n",
       "    .dataframe thead th {\n",
       "        text-align: right;\n",
       "    }\n",
       "</style>\n",
       "<table border=\"1\" class=\"dataframe\">\n",
       "  <thead>\n",
       "    <tr style=\"text-align: right;\">\n",
       "      <th></th>\n",
       "      <th>date</th>\n",
       "      <th>text</th>\n",
       "    </tr>\n",
       "  </thead>\n",
       "  <tbody>\n",
       "    <tr>\n",
       "      <th>0</th>\n",
       "      <td>2020-09-01</td>\n",
       "      <td>People are tired of watching the highly politi...</td>\n",
       "    </tr>\n",
       "  </tbody>\n",
       "</table>\n",
       "</div>"
      ],
      "text/plain": [
       "        date                                               text\n",
       "0 2020-09-01  People are tired of watching the highly politi..."
      ]
     },
     "execution_count": 151,
     "metadata": {},
     "output_type": "execute_result"
    }
   ],
   "source": [
    "to_Trump_parsed.head(1)"
   ]
  },
  {
   "cell_type": "code",
   "execution_count": 152,
   "metadata": {},
   "outputs": [
    {
     "data": {
      "text/html": [
       "<div>\n",
       "<style scoped>\n",
       "    .dataframe tbody tr th:only-of-type {\n",
       "        vertical-align: middle;\n",
       "    }\n",
       "\n",
       "    .dataframe tbody tr th {\n",
       "        vertical-align: top;\n",
       "    }\n",
       "\n",
       "    .dataframe thead th {\n",
       "        text-align: right;\n",
       "    }\n",
       "</style>\n",
       "<table border=\"1\" class=\"dataframe\">\n",
       "  <thead>\n",
       "    <tr style=\"text-align: right;\">\n",
       "      <th></th>\n",
       "      <th>date</th>\n",
       "      <th>text</th>\n",
       "    </tr>\n",
       "  </thead>\n",
       "  <tbody>\n",
       "    <tr>\n",
       "      <th>0</th>\n",
       "      <td>2020-09-02</td>\n",
       "      <td>True!트윗 인용하기Andrew Pollackwill always care for...</td>\n",
       "    </tr>\n",
       "  </tbody>\n",
       "</table>\n",
       "</div>"
      ],
      "text/plain": [
       "        date                                               text\n",
       "0 2020-09-02  True!트윗 인용하기Andrew Pollackwill always care for..."
      ]
     },
     "execution_count": 152,
     "metadata": {},
     "output_type": "execute_result"
    }
   ],
   "source": [
    "from_Trump_parsed.head(1)"
   ]
  },
  {
   "cell_type": "code",
   "execution_count": 153,
   "metadata": {},
   "outputs": [
    {
     "data": {
      "text/plain": [
       "12      2020-09-01\n",
       "5       2020-09-01\n",
       "0       2020-09-02\n",
       "15      2020-09-02\n",
       "14      2020-09-02\n",
       "           ...    \n",
       "37563   2020-10-31\n",
       "37564   2020-10-31\n",
       "37565   2020-10-31\n",
       "37566   2020-10-31\n",
       "37568   2020-10-31\n",
       "Name: date, Length: 978, dtype: datetime64[ns]"
      ]
     },
     "execution_count": 153,
     "metadata": {},
     "output_type": "execute_result"
    }
   ],
   "source": [
    "to_Biden_parsed.date.sort_values()"
   ]
  },
  {
   "cell_type": "code",
   "execution_count": 154,
   "metadata": {},
   "outputs": [
    {
     "data": {
      "text/plain": [
       "0      2020-09-01\n",
       "1      2020-09-01\n",
       "2      2020-09-01\n",
       "3      2020-09-01\n",
       "6      2020-09-01\n",
       "          ...    \n",
       "3315   2020-10-31\n",
       "3316   2020-10-31\n",
       "3317   2020-10-31\n",
       "3318   2020-10-31\n",
       "3320   2020-10-31\n",
       "Name: date, Length: 526, dtype: datetime64[ns]"
      ]
     },
     "execution_count": 154,
     "metadata": {},
     "output_type": "execute_result"
    }
   ],
   "source": [
    "from_Biden_parsed.date.sort_values()"
   ]
  },
  {
   "cell_type": "code",
   "execution_count": 155,
   "metadata": {},
   "outputs": [
    {
     "data": {
      "text/plain": [
       "0       2020-09-01\n",
       "103     2020-09-02\n",
       "19      2020-09-02\n",
       "18      2020-09-02\n",
       "17      2020-09-02\n",
       "           ...    \n",
       "52038   2020-10-31\n",
       "52042   2020-10-31\n",
       "52040   2020-10-31\n",
       "52041   2020-10-31\n",
       "52043   2020-10-31\n",
       "Name: date, Length: 968, dtype: datetime64[ns]"
      ]
     },
     "execution_count": 155,
     "metadata": {},
     "output_type": "execute_result"
    }
   ],
   "source": [
    "to_Trump_parsed.date.sort_values()"
   ]
  },
  {
   "cell_type": "code",
   "execution_count": 156,
   "metadata": {},
   "outputs": [
    {
     "data": {
      "text/plain": [
       "1       2020-09-01\n",
       "3       2020-09-01\n",
       "5       2020-09-01\n",
       "7       2020-09-01\n",
       "11      2020-09-01\n",
       "           ...    \n",
       "11556   2020-10-31\n",
       "11557   2020-10-31\n",
       "11559   2020-10-31\n",
       "11561   2020-10-31\n",
       "11563   2020-10-31\n",
       "Name: date, Length: 705, dtype: datetime64[ns]"
      ]
     },
     "execution_count": 156,
     "metadata": {},
     "output_type": "execute_result"
    }
   ],
   "source": [
    "from_Trump_parsed.date.sort_values()"
   ]
  },
  {
   "cell_type": "markdown",
   "metadata": {},
   "source": [
    "__저장 전 , 자잘한 작업__  \n",
    "- 인덱스 리셋팅  \n",
    "- 날짜별로 정렬한 상태로 저장하기 (그냥 보기 좋으라규)  "
   ]
  },
  {
   "cell_type": "code",
   "execution_count": 157,
   "metadata": {},
   "outputs": [],
   "source": [
    "to_Biden_parsed = to_Biden_parsed.reset_index()\n",
    "to_Biden_parsed = to_Biden_parsed.drop(['index'],axis=1)\n",
    "to_Biden_parsed = to_Biden_parsed.sort_values(by='date')\n",
    "\n",
    "from_Biden_parsed = from_Biden_parsed.reset_index()\n",
    "from_Biden_parsed = from_Biden_parsed.drop(['index'],axis=1)\n",
    "from_Biden_parsed = from_Biden_parsed.sort_values(by='date')\n",
    "\n",
    "to_Trump_parsed = to_Trump_parsed.reset_index()\n",
    "to_Trump_parsed = to_Trump_parsed.drop(['index'],axis=1)\n",
    "to_Trump_parsed = to_Trump_parsed.sort_values(by='date')\n",
    "\n",
    "from_Trump_parsed = from_Trump_parsed.reset_index()\n",
    "from_Trump_parsed = from_Trump_parsed.drop(['index'],axis=1)\n",
    "from_Trump_parsed = from_Trump_parsed.sort_values(by='date')"
   ]
  },
  {
   "cell_type": "markdown",
   "metadata": {},
   "source": [
    "__내 폴더에 저어장__"
   ]
  },
  {
   "cell_type": "code",
   "execution_count": 158,
   "metadata": {},
   "outputs": [],
   "source": [
    "to_Biden_parsed.to_csv(path+'to_Biden_with_hashtag.csv',index=False)\n",
    "from_Biden_parsed.to_csv(path+'from_Biden_with_hashtag.csv',index=False)\n",
    "to_Trump_parsed.to_csv(path+'to_Trump_with_hashtag.csv',index=False)\n",
    "from_Trump_parsed.to_csv(path+'from_Trump_with_hashtag.csv',index=False)"
   ]
  }
 ],
 "metadata": {
  "kernelspec": {
   "display_name": "Python 3",
   "language": "python",
   "name": "python3"
  },
  "language_info": {
   "codemirror_mode": {
    "name": "ipython",
    "version": 3
   },
   "file_extension": ".py",
   "mimetype": "text/x-python",
   "name": "python",
   "nbconvert_exporter": "python",
   "pygments_lexer": "ipython3",
   "version": "3.8.3"
  }
 },
 "nbformat": 4,
 "nbformat_minor": 4
}
